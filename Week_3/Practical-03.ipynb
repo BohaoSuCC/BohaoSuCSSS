{
 "cells": [
  {
   "cell_type": "markdown",
   "metadata": {},
   "source": [
    "<div style=\"float:left\">\n",
    "            <h1 style=\"width:450px\">CASA0006 Practical 3: Tree-based methods</h1>\n",
    "</div>\n",
    "<div style=\"float:right\"><img width=\"100\" src=\"https://github.com/jreades/i2p/raw/master/img/casa_logo.jpg\" /></div>"
   ]
  },
  {
   "cell_type": "markdown",
   "metadata": {},
   "source": [
    "# Welcome!\n",
    "\n",
    "In this workshop, we will achieve the following objectives:\n",
    "1. Review weekly quiz;\n",
    "1. Build three models to predict the daily bicycle rental based on metrics of R2, including CART, random forest, and XGBoost;\n",
    "1. Compare the predictive performance and permutation feature importance of these three models.\n",
    "\n",
    "Remember that *Practice makes perfect.*"
   ]
  },
  {
   "cell_type": "markdown",
   "metadata": {},
   "source": [
    "In the following code, some codes are missing and marked with ```??```.\n",
    "\n",
    "Please replace ```??``` with the correct codes, using the hints and context. The solution will be given in the workshop."
   ]
  },
  {
   "cell_type": "markdown",
   "metadata": {},
   "source": [
    "\\*\\* Review the weekly quiz \\*\\*."
   ]
  },
  {
   "cell_type": "markdown",
   "metadata": {},
   "source": [
    "First, import the relevant libraries. \n",
    "\n",
    "* `pandas` for data import and handling;\n",
    "* `matplotlib`;\n",
    "* `numpy`;\n",
    "* `sklearn`;\n",
    "* `xgboost` for XGBoost models.\n",
    "* `rfpimp` for permutation feature importance.\n",
    "\n",
    "**Run the script below to get started.**"
   ]
  },
  {
   "cell_type": "code",
   "execution_count": 3,
   "metadata": {},
   "outputs": [],
   "source": [
    "import numpy as np\n",
    "import matplotlib.pyplot as plt\n",
    "import pandas as pd\n",
    "\n",
    "import sklearn\n",
    "from sklearn.model_selection import train_test_split, GridSearchCV, validation_curve\n",
    "from sklearn.metrics import mean_squared_error\n",
    "\n",
    "# CART\n",
    "from sklearn.tree import DecisionTreeRegressor\n",
    "\n",
    "# random forest\n",
    "from sklearn.ensemble import RandomForestRegressor\n",
    "\n",
    "# feature importance\n",
    "import rfpimp\n",
    "\n",
    "# xgboost\n",
    "import xgboost\n",
    "from xgboost import XGBRegressor\n",
    "\n",
    "pd.set_option('display.max_rows', 300) # specifies number of rows to show\n",
    "pd.options.display.float_format = '{:40,.4f}'.format # specifies default number format to 4 decimal places\n",
    "plt.style.use('ggplot') # specifies that graphs should use ggplot styling\n",
    "%matplotlib inline"
   ]
  },
  {
   "cell_type": "code",
   "execution_count": 4,
   "metadata": {},
   "outputs": [
    {
     "name": "stdout",
     "output_type": "stream",
     "text": [
      "xgboost version:1.7.3\n",
      "sklearn version:1.3.0\n"
     ]
    }
   ],
   "source": [
    "# check the library version before we start\n",
    "print(\"xgboost version:{}\".format(xgboost.__version__))\n",
    "print(\"sklearn version:{}\".format(sklearn.__version__))"
   ]
  },
  {
   "cell_type": "markdown",
   "metadata": {},
   "source": [
    "## Data Loading and Exploration"
   ]
  },
  {
   "cell_type": "markdown",
   "metadata": {},
   "source": [
    "The dataset you will use relates to daily counts of rented bicycles from the bicycle rental company Capital-Bikeshare in Washington D.C., along with weather and seasonal information. The goal here is to predict how many bikes will be rented depending on the weather and the day. The original data can be downloaded from the [UCI Machine Learning Repository](http://archive.ics.uci.edu/ml/datasets/Bike+Sharing+Dataset).\n",
    "\n",
    "The dataset used in this workshop has been slightly processed by Christoph Molnar using the processing R-script from this [Github repository](https://github.com/christophM/interpretable-ml-book/blob/master/R/get-bike-sharing-dataset.R). Here, the dataset is provided as a csv file on Moodle.\n",
    "\n",
    "Here is a list of the variables in the dataset:\n",
    "\n",
    "- Count of bicycles including both casual and registered users. The count is used as the response in the regression task.\n",
    "- Indicator of the season, either spring, summer, fall or winter.\n",
    "- Indicator whether the day was a holiday or not.\n",
    "- The year: either 2011 or 2012.\n",
    "- Number of days since the 01.01.2011 (the first day in the dataset). This predictor was introduced to take account of the trend over time.\n",
    "- Indicator whether the day was a working day or weekend.\n",
    "- The weather situation on that day. One of:\n",
    "  - **'GOOD'**: including clear, few clouds, partly cloudy, cloudy\n",
    "  - **'MISTY'**: including mist + clouds, mist + broken clouds, mist + few clouds, mist\n",
    "  - **'RAIN/SNOW/STORM'**: including light snow, light rain + thunderstorm + scattered clouds, light rain + scattered clouds, heavy rain + ice pallets + thunderstorm + mist, snow + mist\n",
    "- Temperature in degrees Celsius.\n",
    "- Relative humidity in percent (0 to 100).\n",
    "- Wind speed in km/h.\n",
    "\n",
    "We will use Pandas package to load and explore this dataset:\n",
    "\n",
    "- Import the Boston housing dataset as a Pandas dataframe (call it `bike_rental`)\n",
    "- Inspect the data\n",
    "- Calculate summary statistics on all attributes"
   ]
  },
  {
   "cell_type": "code",
   "execution_count": 5,
   "metadata": {},
   "outputs": [],
   "source": [
    "bike_rental = pd.read_csv('https://raw.githubusercontent.com/huanfachen/Spatial_Data_Science/main/Dataset/daily_count_bike_rental.csv')\n",
    "# drop the year variable as it is not useful\n",
    "bike_rental = bike_rental.drop(['yr'], axis=1)"
   ]
  },
  {
   "cell_type": "code",
   "execution_count": 6,
   "metadata": {},
   "outputs": [
    {
     "name": "stdout",
     "output_type": "stream",
     "text": [
      "<class 'pandas.core.frame.DataFrame'>\n",
      "RangeIndex: 731 entries, 0 to 730\n",
      "Data columns (total 11 columns):\n",
      " #   Column           Non-Null Count  Dtype  \n",
      "---  ------           --------------  -----  \n",
      " 0   cnt              731 non-null    int64  \n",
      " 1   season           731 non-null    object \n",
      " 2   mnth             731 non-null    object \n",
      " 3   holiday          731 non-null    object \n",
      " 4   weekday          731 non-null    object \n",
      " 5   workingday       731 non-null    object \n",
      " 6   weathersit       731 non-null    object \n",
      " 7   temp             731 non-null    float64\n",
      " 8   hum              731 non-null    float64\n",
      " 9   windspeed        731 non-null    float64\n",
      " 10  days_since_2011  731 non-null    int64  \n",
      "dtypes: float64(3), int64(2), object(6)\n",
      "memory usage: 62.9+ KB\n"
     ]
    }
   ],
   "source": [
    "bike_rental.info()"
   ]
  },
  {
   "cell_type": "markdown",
   "metadata": {},
   "source": [
    "In `bike_rental`, there are two data types: categorical (aka `object`), and numerical (including `int64` and `float64`). "
   ]
  },
  {
   "cell_type": "code",
   "execution_count": 7,
   "metadata": {},
   "outputs": [
    {
     "data": {
      "text/html": [
       "<div>\n",
       "<style scoped>\n",
       "    .dataframe tbody tr th:only-of-type {\n",
       "        vertical-align: middle;\n",
       "    }\n",
       "\n",
       "    .dataframe tbody tr th {\n",
       "        vertical-align: top;\n",
       "    }\n",
       "\n",
       "    .dataframe thead th {\n",
       "        text-align: right;\n",
       "    }\n",
       "</style>\n",
       "<table border=\"1\" class=\"dataframe\">\n",
       "  <thead>\n",
       "    <tr style=\"text-align: right;\">\n",
       "      <th></th>\n",
       "      <th>cnt</th>\n",
       "      <th>season</th>\n",
       "      <th>mnth</th>\n",
       "      <th>holiday</th>\n",
       "      <th>weekday</th>\n",
       "      <th>workingday</th>\n",
       "      <th>weathersit</th>\n",
       "      <th>temp</th>\n",
       "      <th>hum</th>\n",
       "      <th>windspeed</th>\n",
       "      <th>days_since_2011</th>\n",
       "    </tr>\n",
       "  </thead>\n",
       "  <tbody>\n",
       "    <tr>\n",
       "      <th>0</th>\n",
       "      <td>985</td>\n",
       "      <td>SPRING</td>\n",
       "      <td>JAN</td>\n",
       "      <td>NO HOLIDAY</td>\n",
       "      <td>SAT</td>\n",
       "      <td>NO WORKING DAY</td>\n",
       "      <td>MISTY</td>\n",
       "      <td>8.1758</td>\n",
       "      <td>80.5833</td>\n",
       "      <td>10.7499</td>\n",
       "      <td>0</td>\n",
       "    </tr>\n",
       "    <tr>\n",
       "      <th>1</th>\n",
       "      <td>801</td>\n",
       "      <td>SPRING</td>\n",
       "      <td>JAN</td>\n",
       "      <td>NO HOLIDAY</td>\n",
       "      <td>SUN</td>\n",
       "      <td>NO WORKING DAY</td>\n",
       "      <td>MISTY</td>\n",
       "      <td>9.0835</td>\n",
       "      <td>69.6087</td>\n",
       "      <td>16.6521</td>\n",
       "      <td>1</td>\n",
       "    </tr>\n",
       "    <tr>\n",
       "      <th>2</th>\n",
       "      <td>1349</td>\n",
       "      <td>SPRING</td>\n",
       "      <td>JAN</td>\n",
       "      <td>NO HOLIDAY</td>\n",
       "      <td>MON</td>\n",
       "      <td>WORKING DAY</td>\n",
       "      <td>GOOD</td>\n",
       "      <td>1.2291</td>\n",
       "      <td>43.7273</td>\n",
       "      <td>16.6367</td>\n",
       "      <td>2</td>\n",
       "    </tr>\n",
       "    <tr>\n",
       "      <th>3</th>\n",
       "      <td>1562</td>\n",
       "      <td>SPRING</td>\n",
       "      <td>JAN</td>\n",
       "      <td>NO HOLIDAY</td>\n",
       "      <td>TUE</td>\n",
       "      <td>WORKING DAY</td>\n",
       "      <td>GOOD</td>\n",
       "      <td>1.4000</td>\n",
       "      <td>59.0435</td>\n",
       "      <td>10.7398</td>\n",
       "      <td>3</td>\n",
       "    </tr>\n",
       "    <tr>\n",
       "      <th>4</th>\n",
       "      <td>1600</td>\n",
       "      <td>SPRING</td>\n",
       "      <td>JAN</td>\n",
       "      <td>NO HOLIDAY</td>\n",
       "      <td>WED</td>\n",
       "      <td>WORKING DAY</td>\n",
       "      <td>GOOD</td>\n",
       "      <td>2.6670</td>\n",
       "      <td>43.6957</td>\n",
       "      <td>12.5223</td>\n",
       "      <td>4</td>\n",
       "    </tr>\n",
       "  </tbody>\n",
       "</table>\n",
       "</div>"
      ],
      "text/plain": [
       "    cnt  season mnth     holiday weekday      workingday weathersit  \\\n",
       "0   985  SPRING  JAN  NO HOLIDAY     SAT  NO WORKING DAY      MISTY   \n",
       "1   801  SPRING  JAN  NO HOLIDAY     SUN  NO WORKING DAY      MISTY   \n",
       "2  1349  SPRING  JAN  NO HOLIDAY     MON     WORKING DAY       GOOD   \n",
       "3  1562  SPRING  JAN  NO HOLIDAY     TUE     WORKING DAY       GOOD   \n",
       "4  1600  SPRING  JAN  NO HOLIDAY     WED     WORKING DAY       GOOD   \n",
       "\n",
       "                                      temp  \\\n",
       "0                                   8.1758   \n",
       "1                                   9.0835   \n",
       "2                                   1.2291   \n",
       "3                                   1.4000   \n",
       "4                                   2.6670   \n",
       "\n",
       "                                       hum  \\\n",
       "0                                  80.5833   \n",
       "1                                  69.6087   \n",
       "2                                  43.7273   \n",
       "3                                  59.0435   \n",
       "4                                  43.6957   \n",
       "\n",
       "                                 windspeed  days_since_2011  \n",
       "0                                  10.7499                0  \n",
       "1                                  16.6521                1  \n",
       "2                                  16.6367                2  \n",
       "3                                  10.7398                3  \n",
       "4                                  12.5223                4  "
      ]
     },
     "execution_count": 7,
     "metadata": {},
     "output_type": "execute_result"
    }
   ],
   "source": [
    "# print a few rows of this dataset\n",
    "bike_rental.head()"
   ]
  },
  {
   "cell_type": "markdown",
   "metadata": {},
   "source": [
    "### Converting categorical variables\n",
    "\n",
    "Before undertaking regression, we need to handle categorical variables, as ML models usually can't deal with *strings* or *categories*.\n",
    "\n",
    "While there are other ways of handling categorical variables in machine learning, we will stick to one-hot encoding, as it is easy to understand and appropriate for medium-size datasets (sample size <10000).\n",
    "\n",
    "First, we need to convert categorical variables into dummy/indicator variables, using `One-Hot Encoding`."
   ]
  },
  {
   "cell_type": "code",
   "execution_count": 8,
   "metadata": {},
   "outputs": [],
   "source": [
    "bike_rentail_numeric = pd.get_dummies(bike_rental)"
   ]
  },
  {
   "cell_type": "code",
   "execution_count": 9,
   "metadata": {},
   "outputs": [
    {
     "name": "stdout",
     "output_type": "stream",
     "text": [
      "<class 'pandas.core.frame.DataFrame'>\n",
      "RangeIndex: 731 entries, 0 to 730\n",
      "Data columns (total 35 columns):\n",
      " #   Column                      Non-Null Count  Dtype  \n",
      "---  ------                      --------------  -----  \n",
      " 0   cnt                         731 non-null    int64  \n",
      " 1   temp                        731 non-null    float64\n",
      " 2   hum                         731 non-null    float64\n",
      " 3   windspeed                   731 non-null    float64\n",
      " 4   days_since_2011             731 non-null    int64  \n",
      " 5   season_FALL                 731 non-null    bool   \n",
      " 6   season_SPRING               731 non-null    bool   \n",
      " 7   season_SUMMER               731 non-null    bool   \n",
      " 8   season_WINTER               731 non-null    bool   \n",
      " 9   mnth_APR                    731 non-null    bool   \n",
      " 10  mnth_AUG                    731 non-null    bool   \n",
      " 11  mnth_DEZ                    731 non-null    bool   \n",
      " 12  mnth_FEB                    731 non-null    bool   \n",
      " 13  mnth_JAN                    731 non-null    bool   \n",
      " 14  mnth_JUL                    731 non-null    bool   \n",
      " 15  mnth_JUN                    731 non-null    bool   \n",
      " 16  mnth_MAR                    731 non-null    bool   \n",
      " 17  mnth_MAY                    731 non-null    bool   \n",
      " 18  mnth_NOV                    731 non-null    bool   \n",
      " 19  mnth_OKT                    731 non-null    bool   \n",
      " 20  mnth_SEP                    731 non-null    bool   \n",
      " 21  holiday_HOLIDAY             731 non-null    bool   \n",
      " 22  holiday_NO HOLIDAY          731 non-null    bool   \n",
      " 23  weekday_FRI                 731 non-null    bool   \n",
      " 24  weekday_MON                 731 non-null    bool   \n",
      " 25  weekday_SAT                 731 non-null    bool   \n",
      " 26  weekday_SUN                 731 non-null    bool   \n",
      " 27  weekday_THU                 731 non-null    bool   \n",
      " 28  weekday_TUE                 731 non-null    bool   \n",
      " 29  weekday_WED                 731 non-null    bool   \n",
      " 30  workingday_NO WORKING DAY   731 non-null    bool   \n",
      " 31  workingday_WORKING DAY      731 non-null    bool   \n",
      " 32  weathersit_GOOD             731 non-null    bool   \n",
      " 33  weathersit_MISTY            731 non-null    bool   \n",
      " 34  weathersit_RAIN/SNOW/STORM  731 non-null    bool   \n",
      "dtypes: bool(30), float64(3), int64(2)\n",
      "memory usage: 50.1 KB\n"
     ]
    }
   ],
   "source": [
    "# check out the new dataFrame\n",
    "bike_rentail_numeric.info()"
   ]
  },
  {
   "cell_type": "markdown",
   "metadata": {},
   "source": [
    "Remember that, a cateogircal variable of K categories or levels, usually enters a regression as a sequence of K-1 dummy variables. The level that is left out becomes the reference level, and this is important for interpreting the regression model.\n",
    "\n",
    "Here we manually choose the reference level for each categorical variable and exclude them from the DataFrame. You can change the reference levels if you want."
   ]
  },
  {
   "cell_type": "code",
   "execution_count": 10,
   "metadata": {},
   "outputs": [
    {
     "name": "stdout",
     "output_type": "stream",
     "text": [
      "<class 'pandas.core.frame.DataFrame'>\n",
      "RangeIndex: 731 entries, 0 to 730\n",
      "Data columns (total 29 columns):\n",
      " #   Column                      Non-Null Count  Dtype  \n",
      "---  ------                      --------------  -----  \n",
      " 0   cnt                         731 non-null    int64  \n",
      " 1   temp                        731 non-null    float64\n",
      " 2   hum                         731 non-null    float64\n",
      " 3   windspeed                   731 non-null    float64\n",
      " 4   days_since_2011             731 non-null    int64  \n",
      " 5   season_FALL                 731 non-null    bool   \n",
      " 6   season_SUMMER               731 non-null    bool   \n",
      " 7   season_WINTER               731 non-null    bool   \n",
      " 8   mnth_APR                    731 non-null    bool   \n",
      " 9   mnth_AUG                    731 non-null    bool   \n",
      " 10  mnth_DEZ                    731 non-null    bool   \n",
      " 11  mnth_FEB                    731 non-null    bool   \n",
      " 12  mnth_JUL                    731 non-null    bool   \n",
      " 13  mnth_JUN                    731 non-null    bool   \n",
      " 14  mnth_MAR                    731 non-null    bool   \n",
      " 15  mnth_MAY                    731 non-null    bool   \n",
      " 16  mnth_NOV                    731 non-null    bool   \n",
      " 17  mnth_OKT                    731 non-null    bool   \n",
      " 18  mnth_SEP                    731 non-null    bool   \n",
      " 19  holiday_HOLIDAY             731 non-null    bool   \n",
      " 20  weekday_FRI                 731 non-null    bool   \n",
      " 21  weekday_SAT                 731 non-null    bool   \n",
      " 22  weekday_SUN                 731 non-null    bool   \n",
      " 23  weekday_THU                 731 non-null    bool   \n",
      " 24  weekday_TUE                 731 non-null    bool   \n",
      " 25  weekday_WED                 731 non-null    bool   \n",
      " 26  workingday_NO WORKING DAY   731 non-null    bool   \n",
      " 27  weathersit_MISTY            731 non-null    bool   \n",
      " 28  weathersit_RAIN/SNOW/STORM  731 non-null    bool   \n",
      "dtypes: bool(24), float64(3), int64(2)\n",
      "memory usage: 45.8 KB\n"
     ]
    }
   ],
   "source": [
    "bike_rental_final = bike_rentail_numeric.drop(['season_SPRING', 'mnth_JAN', 'holiday_NO HOLIDAY', 'weekday_MON', 'workingday_WORKING DAY', 'weathersit_GOOD'], axis=1)\n",
    "\n",
    "# double check the result\n",
    "bike_rental_final.info()"
   ]
  },
  {
   "cell_type": "markdown",
   "metadata": {},
   "source": [
    "### Splitting data into random train and test subsets"
   ]
  },
  {
   "cell_type": "markdown",
   "metadata": {},
   "source": [
    "By default, `train_test_split` will split the data according to a 75:25 split. Other proportions can be specified, check out the [documentation](https://scikit-learn.org/stable/modules/generated/sklearn.model_selection.train_test_split.html) for details.\n",
    "\n",
    "Remember that the split should be random in order to avoid selection bias. Here, we set random_state=100 to guarantee reproducibility.\n",
    "\n",
    "From the documentation:\n",
    "\n",
    "The first argument of this function:\n",
    "\n",
    "```\n",
    "*arrays: sequence of indexables with same length / shape[0]\n",
    "Allowed inputs are lists, numpy arrays, scipy-sparse matrices or pandas dataframes.\n",
    "```\n",
    "\n",
    "The output of this function:\n",
    "```\n",
    "splitting: list, length=2 * len(arrays)\n",
    "List containing train-test split of inputs.\n",
    "```\n",
    "\n",
    "Here we input two dataframes (X and Y) and will get four outputs (train_x, test_x, train_y, test_y)."
   ]
  },
  {
   "cell_type": "code",
   "execution_count": 11,
   "metadata": {},
   "outputs": [],
   "source": [
    "random_state_split = 100\n",
    "train_x, test_x, train_y, test_y = train_test_split(bike_rental_final.drop(['cnt'], axis = 1), bike_rental_final.cnt, random_state=random_state_split)"
   ]
  },
  {
   "cell_type": "markdown",
   "metadata": {},
   "source": [
    "Double check the rows and columns of the outputs."
   ]
  },
  {
   "cell_type": "code",
   "execution_count": 12,
   "metadata": {},
   "outputs": [
    {
     "name": "stdout",
     "output_type": "stream",
     "text": [
      "(548, 28)\n",
      "(548,)\n",
      "(183, 28)\n",
      "(183,)\n",
      "True\n",
      "True\n"
     ]
    }
   ],
   "source": [
    "print(train_x.shape)\n",
    "print(train_y.shape)\n",
    "print(test_x.shape)\n",
    "print(test_y.shape)\n",
    "\n",
    "# check the index of train_x and train_y - they should be identical. The index indicates which rows from the original data.\n",
    "\n",
    "print(train_x.index.identical(train_y.index))\n",
    "print(test_x.index.identical(test_y.index))"
   ]
  },
  {
   "cell_type": "markdown",
   "metadata": {},
   "source": [
    "In the regression models, we will use the training set to train the model and select hyperparameters. The testing set is only used to report the performance of the finalised model."
   ]
  },
  {
   "cell_type": "markdown",
   "metadata": {},
   "source": [
    "## Building a CART"
   ]
  },
  {
   "cell_type": "markdown",
   "metadata": {},
   "source": [
    "We will build a CART to predict the bicycle rental, following two steps:\n",
    "\n",
    "1. Tune the hyperparameters of max_depth and min_samples_split using cross validation;\n",
    "2. Train a final model based on the tuned hyperparameters and evaluate the model performance.\n",
    "\n",
    "Here, we focus on two hyperparameters that control the stopping criteria of the model training: max_depth and min_samples_split.\n",
    "\n",
    "*max_depth* refers to the maximal depth (or height) of a tree. In sklearn, if this value is not specified, the nodes would be expanded until all leaves contain samples of the same y value or until all leaves contain less than min_samples_split samples.\n",
    "\n",
    "Intuition about max_depth: the larger the maximum tree depth, the better fitness of the model on the training data and thus the higher possibility of overfitting.\n",
    "\n",
    "Ideally, we want the maximum tree height to be neither too small or too large.\n",
    "\n",
    "The documentation is as follows:\n",
    "\n",
    "```\n",
    "max_depth: int, default=None\n",
    "The maximum depth of the tree. If None, then nodes are expanded until all leaves are pure or until all leaves contain less than min_samples_split samples.\n",
    "```\n",
    "\n",
    "*min_samples_split* refers to the minimum number of samples required to split a node. If a node contains less samples than min_samples_split, this node becomes a leaf node and would not split.\n",
    "\n",
    "The smaller value of min_samples_split, the better fitness of the model and thus the higher possibility of overfitting.\n",
    "\n",
    "The documentation is as follows (note that the value can be either integer or float, but the meaning is different)\n",
    "\n",
    "```\n",
    "min_samples_split: int or float, default=2\n",
    "The minimum number of samples required to split an internal node:\n",
    "\n",
    "If int, then consider min_samples_split as the minimum number.\n",
    "\n",
    "If float, then min_samples_split is a fraction and ceil(min_samples_split * n_samples) are the minimum number of samples for each split.\n",
    "```"
   ]
  },
  {
   "cell_type": "markdown",
   "metadata": {},
   "source": [
    "### Tuning the hyperparameters using cross validation"
   ]
  },
  {
   "cell_type": "markdown",
   "metadata": {},
   "source": [
    "We will use ```GridSearchCV``` to find the optimal combination of max_depth and min_samples_split. \n",
    "\n",
    "Note that in grid search, all combinations of hyperparameters will be tested and compared. In this case, 25 (5*5) different combinations of hyperparameters will be tested.\n",
    "\n",
    "**One question - how to determine the potential values of max_depth and min_samples_split?**\n",
    "\n",
    "For min_samples_split, as it is a positive integer value and the default value is 2, we can set the range as [2,4,6,8,10].\n",
    "\n",
    "For max_depth, we can build a decision tree using default settings and check the tree depth, then choose the range around this tree depth.\n",
    "\n",
    "The code below shows that the tree depth of a CART with default settings is 25, so we can set the range as [10,20,30,40,50]."
   ]
  },
  {
   "cell_type": "code",
   "execution_count": 13,
   "metadata": {},
   "outputs": [
    {
     "name": "stdout",
     "output_type": "stream",
     "text": [
      "Tree depth: 25\n"
     ]
    }
   ],
   "source": [
    "# a CART using default settings\n",
    "cart_default = DecisionTreeRegressor(random_state=0)\n",
    "cart_default.fit(train_x, train_y)\n",
    "# print the tree depth\n",
    "print(\"Tree depth: {}\".format(cart_default.get_depth()))"
   ]
  },
  {
   "cell_type": "code",
   "execution_count": 14,
   "metadata": {},
   "outputs": [
    {
     "name": "stdout",
     "output_type": "stream",
     "text": [
      "The best parameter value is: \n",
      "{'max_depth': 10, 'min_samples_split': 8}\n",
      "The best score is: \n",
      "0.7549920033546205\n"
     ]
    }
   ],
   "source": [
    "# values of max_depth and min_samples_split\n",
    "hyperparameters = {'max_depth':[10,20,30,40,50], 'min_samples_split':[2,4,6,8,10]}\n",
    "\n",
    "randomState_dt = 10000\n",
    "dt = DecisionTreeRegressor(random_state=randomState_dt)\n",
    "\n",
    "# cv=5 by default, which means 5-fold cross-validation\n",
    "clf = GridSearchCV(dt, hyperparameters)\n",
    "\n",
    "clf.fit(train_x, train_y)\n",
    "\n",
    "# we can query the best parameter value and its accuracy score\n",
    "print (\"The best parameter value is: \")\n",
    "print (clf.best_params_)\n",
    "print (\"The best score is: \")\n",
    "print (clf.best_score_)"
   ]
  },
  {
   "cell_type": "markdown",
   "metadata": {},
   "source": [
    "### Training the final CART"
   ]
  },
  {
   "cell_type": "code",
   "execution_count": 21,
   "metadata": {},
   "outputs": [
    {
     "data": {
      "text/html": [
       "<style>#sk-container-id-2 {color: black;}#sk-container-id-2 pre{padding: 0;}#sk-container-id-2 div.sk-toggleable {background-color: white;}#sk-container-id-2 label.sk-toggleable__label {cursor: pointer;display: block;width: 100%;margin-bottom: 0;padding: 0.3em;box-sizing: border-box;text-align: center;}#sk-container-id-2 label.sk-toggleable__label-arrow:before {content: \"▸\";float: left;margin-right: 0.25em;color: #696969;}#sk-container-id-2 label.sk-toggleable__label-arrow:hover:before {color: black;}#sk-container-id-2 div.sk-estimator:hover label.sk-toggleable__label-arrow:before {color: black;}#sk-container-id-2 div.sk-toggleable__content {max-height: 0;max-width: 0;overflow: hidden;text-align: left;background-color: #f0f8ff;}#sk-container-id-2 div.sk-toggleable__content pre {margin: 0.2em;color: black;border-radius: 0.25em;background-color: #f0f8ff;}#sk-container-id-2 input.sk-toggleable__control:checked~div.sk-toggleable__content {max-height: 200px;max-width: 100%;overflow: auto;}#sk-container-id-2 input.sk-toggleable__control:checked~label.sk-toggleable__label-arrow:before {content: \"▾\";}#sk-container-id-2 div.sk-estimator input.sk-toggleable__control:checked~label.sk-toggleable__label {background-color: #d4ebff;}#sk-container-id-2 div.sk-label input.sk-toggleable__control:checked~label.sk-toggleable__label {background-color: #d4ebff;}#sk-container-id-2 input.sk-hidden--visually {border: 0;clip: rect(1px 1px 1px 1px);clip: rect(1px, 1px, 1px, 1px);height: 1px;margin: -1px;overflow: hidden;padding: 0;position: absolute;width: 1px;}#sk-container-id-2 div.sk-estimator {font-family: monospace;background-color: #f0f8ff;border: 1px dotted black;border-radius: 0.25em;box-sizing: border-box;margin-bottom: 0.5em;}#sk-container-id-2 div.sk-estimator:hover {background-color: #d4ebff;}#sk-container-id-2 div.sk-parallel-item::after {content: \"\";width: 100%;border-bottom: 1px solid gray;flex-grow: 1;}#sk-container-id-2 div.sk-label:hover label.sk-toggleable__label {background-color: #d4ebff;}#sk-container-id-2 div.sk-serial::before {content: \"\";position: absolute;border-left: 1px solid gray;box-sizing: border-box;top: 0;bottom: 0;left: 50%;z-index: 0;}#sk-container-id-2 div.sk-serial {display: flex;flex-direction: column;align-items: center;background-color: white;padding-right: 0.2em;padding-left: 0.2em;position: relative;}#sk-container-id-2 div.sk-item {position: relative;z-index: 1;}#sk-container-id-2 div.sk-parallel {display: flex;align-items: stretch;justify-content: center;background-color: white;position: relative;}#sk-container-id-2 div.sk-item::before, #sk-container-id-2 div.sk-parallel-item::before {content: \"\";position: absolute;border-left: 1px solid gray;box-sizing: border-box;top: 0;bottom: 0;left: 50%;z-index: -1;}#sk-container-id-2 div.sk-parallel-item {display: flex;flex-direction: column;z-index: 1;position: relative;background-color: white;}#sk-container-id-2 div.sk-parallel-item:first-child::after {align-self: flex-end;width: 50%;}#sk-container-id-2 div.sk-parallel-item:last-child::after {align-self: flex-start;width: 50%;}#sk-container-id-2 div.sk-parallel-item:only-child::after {width: 0;}#sk-container-id-2 div.sk-dashed-wrapped {border: 1px dashed gray;margin: 0 0.4em 0.5em 0.4em;box-sizing: border-box;padding-bottom: 0.4em;background-color: white;}#sk-container-id-2 div.sk-label label {font-family: monospace;font-weight: bold;display: inline-block;line-height: 1.2em;}#sk-container-id-2 div.sk-label-container {text-align: center;}#sk-container-id-2 div.sk-container {/* jupyter's `normalize.less` sets `[hidden] { display: none; }` but bootstrap.min.css set `[hidden] { display: none !important; }` so we also need the `!important` here to be able to override the default hidden behavior on the sphinx rendered scikit-learn.org. See: https://github.com/scikit-learn/scikit-learn/issues/21755 */display: inline-block !important;position: relative;}#sk-container-id-2 div.sk-text-repr-fallback {display: none;}</style><div id=\"sk-container-id-2\" class=\"sk-top-container\"><div class=\"sk-text-repr-fallback\"><pre>DecisionTreeRegressor(max_depth=10, min_samples_split=8, random_state=10000)</pre><b>In a Jupyter environment, please rerun this cell to show the HTML representation or trust the notebook. <br />On GitHub, the HTML representation is unable to render, please try loading this page with nbviewer.org.</b></div><div class=\"sk-container\" hidden><div class=\"sk-item\"><div class=\"sk-estimator sk-toggleable\"><input class=\"sk-toggleable__control sk-hidden--visually\" id=\"sk-estimator-id-2\" type=\"checkbox\" checked><label for=\"sk-estimator-id-2\" class=\"sk-toggleable__label sk-toggleable__label-arrow\">DecisionTreeRegressor</label><div class=\"sk-toggleable__content\"><pre>DecisionTreeRegressor(max_depth=10, min_samples_split=8, random_state=10000)</pre></div></div></div></div></div>"
      ],
      "text/plain": [
       "DecisionTreeRegressor(max_depth=10, min_samples_split=8, random_state=10000)"
      ]
     },
     "execution_count": 21,
     "metadata": {},
     "output_type": "execute_result"
    }
   ],
   "source": [
    "dt_final = DecisionTreeRegressor(max_depth=clf.best_params_['max_depth'], min_samples_split=clf.best_params_['min_samples_split'], random_state=randomState_dt)\n",
    "dt_final.fit(train_x, train_y)"
   ]
  },
  {
   "cell_type": "code",
   "execution_count": 22,
   "metadata": {},
   "outputs": [
    {
     "name": "stdout",
     "output_type": "stream",
     "text": [
      "R2 on the training data:\n",
      "0.9727089518051003\n",
      "R2 on the testing data:\n",
      "0.757715812742848\n"
     ]
    }
   ],
   "source": [
    "print(\"R2 on the training data:\")\n",
    "print(dt_final.score(X=train_x, y=train_y))\n",
    "print(\"R2 on the testing data:\")\n",
    "print(dt_final.score(X=test_x, y=test_y))"
   ]
  },
  {
   "cell_type": "markdown",
   "metadata": {},
   "source": [
    "It looks like the R2 on the testing data is much lower than that on the training data. This indicates the overfitting problem, meaning that the model fits very well to the training data but doesn't generalise well to unseen data."
   ]
  },
  {
   "cell_type": "code",
   "execution_count": 23,
   "metadata": {},
   "outputs": [
    {
     "name": "stdout",
     "output_type": "stream",
     "text": [
      "RMSE on the training data:\n",
      "322.91814665797057\n",
      "RMSE on the testing data:\n",
      "922.8954973299212\n"
     ]
    }
   ],
   "source": [
    "print(\"RMSE on the training data:\")\n",
    "print(mean_squared_error(train_y, dt_final.predict(train_x), squared=False))\n",
    "print(\"RMSE on the testing data:\")\n",
    "print(mean_squared_error(test_y, dt_final.predict(test_x), squared=False))"
   ]
  },
  {
   "cell_type": "markdown",
   "metadata": {},
   "source": [
    "The RMSE is in the same unit of the y variable (bicycle rental). On the testing data, on average, the model's prediction deviates from the true bicycle rental by 922.\n",
    "\n",
    "If you want to know the relative error, you can compute the normalised RMSE by dividing the mean true value, as follows:"
   ]
  },
  {
   "cell_type": "code",
   "execution_count": 24,
   "metadata": {},
   "outputs": [
    {
     "name": "stdout",
     "output_type": "stream",
     "text": [
      "Normalised RMSE on the training data:\n",
      "0.0722168443537336\n",
      "Normalised RMSE on the testing data:\n",
      "0.2005120261136868\n"
     ]
    }
   ],
   "source": [
    "print(\"Normalised RMSE on the training data:\")\n",
    "print(mean_squared_error(train_y, dt_final.predict(train_x), squared=False)/np.mean(train_y))\n",
    "print(\"Normalised RMSE on the testing data:\")\n",
    "print(mean_squared_error(test_y, dt_final.predict(test_x), squared=False)/np.mean(test_y))"
   ]
  },
  {
   "cell_type": "markdown",
   "metadata": {},
   "source": [
    "## Interpreting the CART"
   ]
  },
  {
   "cell_type": "code",
   "execution_count": 25,
   "metadata": {},
   "outputs": [
    {
     "name": "stdout",
     "output_type": "stream",
     "text": [
      "Tree depth:10\n",
      "Number of leaves:114\n"
     ]
    }
   ],
   "source": [
    "# some attributes of the tree\n",
    "print(\"Tree depth:{}\".format(dt_final.get_depth()))\n",
    "print(\"Number of leaves:{}\".format(dt_final.get_n_leaves()))"
   ]
  },
  {
   "cell_type": "markdown",
   "metadata": {},
   "source": [
    "There are different ways to inspect and interpret the CART. \n",
    "\n",
    "One way is to visualise the whole tree and check each node and split. However, this is not easy for a tree with 10 layers and over 100 leaves.\n",
    "\n",
    "Another way is to check the relative importance of each feature, for example, using the permutation feature importance.\n",
    "\n",
    "To do this, we will use the **rfpimp** package. \n",
    "\n",
    "**rfpimp** is short for random forest permutation importance. It is a library that provides feature importances, based upon the permutation importance strategy, for general scikit-learn models and implementations specifically for random forest out-of-bag scores. Built by Terence Parr and Kerem Turgutlu.\n"
   ]
  },
  {
   "cell_type": "markdown",
   "metadata": {},
   "source": [
    "We will use the **rfpimp.importances** function to compute the feature importance. According to [its documentation](https://github.com/parrt/random-forest-importances/blob/master/src/rfpimp.py):\n",
    "\n",
    "```\n",
    "Compute permutation feature importances for scikit-learn models using a validation set.\n",
    "Given a Classifier or Regressor in model and validation X and y data, return a data frame with columns.\n",
    "Feature and Importance sorted in reverse order by importance.\n",
    "The validation data is needed to compute model performance measures (accuracy or R^2). The model is not retrained.\n",
    "```\n",
    "\n",
    "So the importance of a feature x is defined as the difference of the R^2 model score (computed by **dt_final.score()**) after shuffling x and without shuffling x.\n",
    "\n",
    "The feature importance is mostly positive or a negative value very close to zero, as shuffling a feature is not expected to greatly improve the model performance.\n",
    "\n",
    "The feature importance is usually used to compare the relative importance of features. It is not recommended to interpret the absolute value of this importance."
   ]
  },
  {
   "cell_type": "code",
   "execution_count": 20,
   "metadata": {},
   "outputs": [
    {
     "name": "stdout",
     "output_type": "stream",
     "text": [
      "                                                         Importance\n",
      "Feature                                                            \n",
      "days_since_2011                                              0.8369\n",
      "temp                                                         0.3925\n",
      "hum                                                          0.0778\n",
      "windspeed                                                    0.0339\n",
      "weathersit_RAIN/SNOW/STORM                                   0.0216\n",
      "mnth_JUN                                                     0.0089\n",
      "workingday_NO WORKING DAY                                    0.0026\n",
      "weekday_SAT                                                  0.0023\n",
      "weekday_TUE                                                  0.0018\n",
      "mnth_APR                                                     0.0009\n",
      "mnth_MAY                                                     0.0004\n",
      "weekday_SUN                                                  0.0002\n",
      "season_WINTER                                                0.0000\n",
      "weekday_FRI                                                  0.0000\n",
      "mnth_SEP                                                     0.0000\n",
      "season_SUMMER                                                0.0000\n",
      "mnth_NOV                                                     0.0000\n",
      "season_FALL                                                  0.0000\n",
      "mnth_MAR                                                     0.0000\n",
      "mnth_FEB                                                     0.0000\n",
      "mnth_DEZ                                                     0.0000\n",
      "mnth_AUG                                                     0.0000\n",
      "mnth_JUL                                                    -0.0004\n",
      "weekday_WED                                                 -0.0010\n",
      "holiday_HOLIDAY                                             -0.0011\n",
      "weekday_THU                                                 -0.0023\n",
      "weathersit_MISTY                                            -0.0045\n",
      "mnth_OKT                                                    -0.0087\n"
     ]
    }
   ],
   "source": [
    "# the importances function returns a dataframe of two columns, Feature and Importance, and the features are ranked from the most important to the least.\n",
    "imp = rfpimp.importances(dt_final, test_x, test_y)\n",
    "print(imp)"
   ]
  },
  {
   "cell_type": "code",
   "execution_count": 26,
   "metadata": {},
   "outputs": [
    {
     "data": {
      "image/png": "[encoded data removed]",
      "text/plain": [
       "<Figure size 400x618 with 1 Axes>"
      ]
     },
     "metadata": {},
     "output_type": "display_data"
    }
   ],
   "source": [
    "## Here is a barplot of the feature importance\n",
    "viz = rfpimp.plot_importances(imp)\n",
    "viz.view()"
   ]
  },
  {
   "cell_type": "markdown",
   "metadata": {},
   "source": [
    "The feature importance above shows that the most important features are **days_since_2011**, **temperature**, and **humidity**.\n",
    "\n",
    "Later on, we will compare the feature importance of diffferent models - CART, RF, and GBDT."
   ]
  },
  {
   "cell_type": "markdown",
   "metadata": {},
   "source": [
    "## Building and interpreting a random forest"
   ]
  },
  {
   "cell_type": "markdown",
   "metadata": {},
   "source": [
    "In this part, we will use the random forest method to predict the daily bicycle rental. We will follow a simple workflow as CART: tune the hyperparameters and then train the final model.\n",
    "\n",
    "RF has two groups of hyperparameters:\n",
    "\n",
    "1. The hyperparameters of decision trees, such as max_depth, min_samples_split;\n",
    "2. The configurations of RF, such as the number of trees (called **n_estimators**). By default, **n_estimators** is set as 100. Some intuition is that the larger n_estimators, the more stable the model performance and the longer computing time. This is because the computing time is a linear function of the number of trees.\n",
    "\n",
    "The default value of 100 trees is good for most applications, so we don't tune this hyperparameter here.\n",
    "\n",
    "As with CART, we will focus on the tuning of max_depth and min_samples_split.\n",
    "\n"
   ]
  },
  {
   "cell_type": "code",
   "execution_count": 28,
   "metadata": {},
   "outputs": [
    {
     "name": "stdout",
     "output_type": "stream",
     "text": [
      "The best parameter value is: \n",
      "{'max_depth': 30, 'min_samples_split': 2}\n",
      "The best score is: \n",
      "0.8594678489298346\n"
     ]
    }
   ],
   "source": [
    "# values of max_depth and min_samples_split\n",
    "hyperparameters = {'max_depth':[10,20,30,40,50], 'min_samples_split':[2,4,6,8,10]}\n",
    "\n",
    "randomState_dt = 10000\n",
    "rf = RandomForestRegressor(random_state=randomState_dt)\n",
    "\n",
    "# cv=5 by default, which means 5-fold cross-validation\n",
    "clf = GridSearchCV(rf, hyperparameters)\n",
    "\n",
    "clf.fit(train_x, train_y)\n",
    "\n",
    "# we can query the best parameter value and its accuracy score\n",
    "print (\"The best parameter value is: \")\n",
    "print (clf.best_params_)\n",
    "print (\"The best score is: \")\n",
    "print (clf.best_score_)"
   ]
  },
  {
   "cell_type": "markdown",
   "metadata": {},
   "source": [
    "Train the final RF."
   ]
  },
  {
   "cell_type": "code",
   "execution_count": 29,
   "metadata": {},
   "outputs": [
    {
     "data": {
      "text/html": [
       "<style>#sk-container-id-3 {color: black;}#sk-container-id-3 pre{padding: 0;}#sk-container-id-3 div.sk-toggleable {background-color: white;}#sk-container-id-3 label.sk-toggleable__label {cursor: pointer;display: block;width: 100%;margin-bottom: 0;padding: 0.3em;box-sizing: border-box;text-align: center;}#sk-container-id-3 label.sk-toggleable__label-arrow:before {content: \"▸\";float: left;margin-right: 0.25em;color: #696969;}#sk-container-id-3 label.sk-toggleable__label-arrow:hover:before {color: black;}#sk-container-id-3 div.sk-estimator:hover label.sk-toggleable__label-arrow:before {color: black;}#sk-container-id-3 div.sk-toggleable__content {max-height: 0;max-width: 0;overflow: hidden;text-align: left;background-color: #f0f8ff;}#sk-container-id-3 div.sk-toggleable__content pre {margin: 0.2em;color: black;border-radius: 0.25em;background-color: #f0f8ff;}#sk-container-id-3 input.sk-toggleable__control:checked~div.sk-toggleable__content {max-height: 200px;max-width: 100%;overflow: auto;}#sk-container-id-3 input.sk-toggleable__control:checked~label.sk-toggleable__label-arrow:before {content: \"▾\";}#sk-container-id-3 div.sk-estimator input.sk-toggleable__control:checked~label.sk-toggleable__label {background-color: #d4ebff;}#sk-container-id-3 div.sk-label input.sk-toggleable__control:checked~label.sk-toggleable__label {background-color: #d4ebff;}#sk-container-id-3 input.sk-hidden--visually {border: 0;clip: rect(1px 1px 1px 1px);clip: rect(1px, 1px, 1px, 1px);height: 1px;margin: -1px;overflow: hidden;padding: 0;position: absolute;width: 1px;}#sk-container-id-3 div.sk-estimator {font-family: monospace;background-color: #f0f8ff;border: 1px dotted black;border-radius: 0.25em;box-sizing: border-box;margin-bottom: 0.5em;}#sk-container-id-3 div.sk-estimator:hover {background-color: #d4ebff;}#sk-container-id-3 div.sk-parallel-item::after {content: \"\";width: 100%;border-bottom: 1px solid gray;flex-grow: 1;}#sk-container-id-3 div.sk-label:hover label.sk-toggleable__label {background-color: #d4ebff;}#sk-container-id-3 div.sk-serial::before {content: \"\";position: absolute;border-left: 1px solid gray;box-sizing: border-box;top: 0;bottom: 0;left: 50%;z-index: 0;}#sk-container-id-3 div.sk-serial {display: flex;flex-direction: column;align-items: center;background-color: white;padding-right: 0.2em;padding-left: 0.2em;position: relative;}#sk-container-id-3 div.sk-item {position: relative;z-index: 1;}#sk-container-id-3 div.sk-parallel {display: flex;align-items: stretch;justify-content: center;background-color: white;position: relative;}#sk-container-id-3 div.sk-item::before, #sk-container-id-3 div.sk-parallel-item::before {content: \"\";position: absolute;border-left: 1px solid gray;box-sizing: border-box;top: 0;bottom: 0;left: 50%;z-index: -1;}#sk-container-id-3 div.sk-parallel-item {display: flex;flex-direction: column;z-index: 1;position: relative;background-color: white;}#sk-container-id-3 div.sk-parallel-item:first-child::after {align-self: flex-end;width: 50%;}#sk-container-id-3 div.sk-parallel-item:last-child::after {align-self: flex-start;width: 50%;}#sk-container-id-3 div.sk-parallel-item:only-child::after {width: 0;}#sk-container-id-3 div.sk-dashed-wrapped {border: 1px dashed gray;margin: 0 0.4em 0.5em 0.4em;box-sizing: border-box;padding-bottom: 0.4em;background-color: white;}#sk-container-id-3 div.sk-label label {font-family: monospace;font-weight: bold;display: inline-block;line-height: 1.2em;}#sk-container-id-3 div.sk-label-container {text-align: center;}#sk-container-id-3 div.sk-container {/* jupyter's `normalize.less` sets `[hidden] { display: none; }` but bootstrap.min.css set `[hidden] { display: none !important; }` so we also need the `!important` here to be able to override the default hidden behavior on the sphinx rendered scikit-learn.org. See: https://github.com/scikit-learn/scikit-learn/issues/21755 */display: inline-block !important;position: relative;}#sk-container-id-3 div.sk-text-repr-fallback {display: none;}</style><div id=\"sk-container-id-3\" class=\"sk-top-container\"><div class=\"sk-text-repr-fallback\"><pre>RandomForestRegressor(max_depth=30, random_state=10000)</pre><b>In a Jupyter environment, please rerun this cell to show the HTML representation or trust the notebook. <br />On GitHub, the HTML representation is unable to render, please try loading this page with nbviewer.org.</b></div><div class=\"sk-container\" hidden><div class=\"sk-item\"><div class=\"sk-estimator sk-toggleable\"><input class=\"sk-toggleable__control sk-hidden--visually\" id=\"sk-estimator-id-3\" type=\"checkbox\" checked><label for=\"sk-estimator-id-3\" class=\"sk-toggleable__label sk-toggleable__label-arrow\">RandomForestRegressor</label><div class=\"sk-toggleable__content\"><pre>RandomForestRegressor(max_depth=30, random_state=10000)</pre></div></div></div></div></div>"
      ],
      "text/plain": [
       "RandomForestRegressor(max_depth=30, random_state=10000)"
      ]
     },
     "execution_count": 29,
     "metadata": {},
     "output_type": "execute_result"
    }
   ],
   "source": [
    "rf_final = RandomForestRegressor(max_depth=clf.best_params_['max_depth'], min_samples_split=clf.best_params_['min_samples_split'], random_state=randomState_dt)\n",
    "rf_final.fit(train_x, train_y)"
   ]
  },
  {
   "cell_type": "code",
   "execution_count": 30,
   "metadata": {},
   "outputs": [
    {
     "name": "stdout",
     "output_type": "stream",
     "text": [
      "R2 on the training data:\n",
      "0.9818090978256703\n",
      "R2 on the testing data:\n",
      "0.883608777650514\n"
     ]
    }
   ],
   "source": [
    "print(\"R2 on the training data:\")\n",
    "print(rf_final.score(X=train_x, y=train_y))\n",
    "print(\"R2 on the testing data:\")\n",
    "print(rf_final.score(X=test_x, y=test_y))"
   ]
  },
  {
   "cell_type": "markdown",
   "metadata": {},
   "source": [
    "So - what do you think about the comparison of R2 on the training and testing data?\n",
    "\n",
    "The R2 on the testing data of RF is much higher than CART, meaning that RF is much better at making prediction for the unseen data and has a better generality. "
   ]
  },
  {
   "cell_type": "code",
   "execution_count": 31,
   "metadata": {},
   "outputs": [
    {
     "name": "stdout",
     "output_type": "stream",
     "text": [
      "RMSE on the training data:\n",
      "263.63888257826613\n",
      "RMSE on the testing data:\n",
      "639.6613442103948\n"
     ]
    }
   ],
   "source": [
    "print(\"RMSE on the training data:\")\n",
    "print(mean_squared_error(train_y, rf_final.predict(train_x), squared=False))\n",
    "print(\"RMSE on the testing data:\")\n",
    "print(mean_squared_error(test_y, rf_final.predict(test_x), squared=False))"
   ]
  },
  {
   "cell_type": "markdown",
   "metadata": {},
   "source": [
    "As with CART, it is not useful to visualise the trees in a random forest.\n",
    "\n",
    "Calculate and plot the feature importance of the RF model.\n",
    "\n",
    "Although the feature importance value differs from the CART, the order of the top-ranking variables is the same.\n",
    "\n",
    "This indicates that these variables are indeed very important for the prediction of bike rental."
   ]
  },
  {
   "cell_type": "code",
   "execution_count": 32,
   "metadata": {},
   "outputs": [
    {
     "name": "stdout",
     "output_type": "stream",
     "text": [
      "                                                         Importance\n",
      "Feature                                                            \n",
      "days_since_2011                                              0.8230\n",
      "temp                                                         0.4014\n",
      "hum                                                          0.1001\n",
      "windspeed                                                    0.0302\n",
      "weathersit_MISTY                                             0.0041\n",
      "season_WINTER                                                0.0035\n",
      "weekday_SUN                                                  0.0034\n",
      "weathersit_RAIN/SNOW/STORM                                   0.0033\n",
      "weekday_SAT                                                  0.0032\n",
      "mnth_DEZ                                                     0.0032\n",
      "workingday_NO WORKING DAY                                    0.0025\n",
      "weekday_FRI                                                  0.0012\n",
      "mnth_SEP                                                     0.0007\n",
      "mnth_NOV                                                     0.0006\n",
      "mnth_JUL                                                     0.0004\n",
      "mnth_JUN                                                     0.0003\n",
      "weekday_TUE                                                  0.0002\n",
      "mnth_FEB                                                     0.0002\n",
      "mnth_MAR                                                    -0.0000\n",
      "mnth_MAY                                                    -0.0001\n",
      "season_SUMMER                                               -0.0001\n",
      "mnth_AUG                                                    -0.0001\n",
      "season_FALL                                                 -0.0001\n",
      "mnth_APR                                                    -0.0002\n",
      "weekday_WED                                                 -0.0002\n",
      "holiday_HOLIDAY                                             -0.0003\n",
      "weekday_THU                                                 -0.0008\n",
      "mnth_OKT                                                    -0.0009\n"
     ]
    },
    {
     "data": {
      "image/png": "[encoded data removed]",
      "text/plain": [
       "<Figure size 400x618 with 1 Axes>"
      ]
     },
     "metadata": {},
     "output_type": "display_data"
    }
   ],
   "source": [
    "imp = rfpimp.importances(rf_final, test_x, test_y)\n",
    "print(imp)\n",
    "viz = rfpimp.plot_importances(imp)\n",
    "viz.view()"
   ]
  },
  {
   "cell_type": "markdown",
   "metadata": {},
   "source": [
    "## Building and interpreting a XGBoost"
   ]
  },
  {
   "cell_type": "markdown",
   "metadata": {},
   "source": [
    "In this part, we will use the XGBoost method to predict the daily bicycle rental. We will follow a simple workflow as CART and RF: tune the hyperparameters and then train the final model.\n",
    "\n",
    "XGBoost is not part of the sklearn library but a separate library. It provides the sklearn API so that we can use XGboost in the same way as RandomForestRegressor of sklearn.\n",
    "\n",
    "XGBoost has two groups of hyperparameters:\n",
    "\n",
    "1. The hyperparameters of decision trees, such as max_depth, min_samples_split;\n",
    "2. The configurations of XGBoost, such as the number of trees (called **n_estimators**) and regularisation hyperparameters.\n",
    "\n",
    "Here are a list of potentially important hyperparameters for XGBoost, recommended by [this post](https://towardsdatascience.com/xgboost-fine-tune-and-optimize-your-model-23d996fab663):\n",
    "\n",
    "1. `max_depth`: The maximum depth per tree. A deeper tree might increase the performance, but also the complexity and chances to overfit. The value must be an integer greater than 0. Default is 6.\n",
    "\n",
    "1. `learning_rate`: The learning rate determines the step size at each iteration while your model optimizes toward its objective. A low learning rate makes computation slower, and requires more rounds to achieve the same reduction in residual error as a model with a high learning rate. But it optimizes the chances to reach the best optimum. The value must be between 0 and 1. Default is 0.3.\n",
    "\n",
    "1. `n_estimators`: The number of trees in the ensemble. Equivalent to the number of boosting rounds. The value must be an integer greater than 0. Default is 100.\n",
    "\n",
    "1. `colsample_bytree`: Represents the fraction of columns to be randomly sampled for each tree. It might improve overfitting.\n",
    "The value must be between 0 and 1. Default is 1.\n",
    "\n",
    "1. `subsample`: Represents the fraction of observations to be sampled for each tree. A lower values prevent overfitting but might lead to under-fitting.\n",
    "The value must be between 0 and 1. Default is 1.\n",
    "\n",
    "1. `alpha (reg_alpha)`: L1 regularization on the weights (Lasso Regression). When working with a large number of features, it might improve speed performances. It can be any integer. Default is 0.\n",
    "\n",
    "1. `lambda (reg_lambda)`: L2 regularization on the weights (Ridge Regression). It might help to reduce overfitting. It can be any integer. Default is 1.\n",
    "\n",
    "1. `gamma`: Gamma is a pseudo-regularisation parameter (Lagrangian multiplier), and depends on the other parameters. The higher Gamma is, the higher the regularization. It can be any integer. Default is 0.\n",
    "\n",
    "The last three hyperparameters - alpha, lambda, and gamma - are related to the regularization of the model. In machine learning, regularization is a number of techniques to reduce the model complexity and the chances of overfitting.\n",
    "\n",
    "If you want to know more about these hyperparameters, you can read [the XGBoost documentation](https://xgboost.readthedocs.io/en/latest/parameter.html).\n",
    "\n",
    "Here, we will focus on the tuning of max_depth and n_estimators.\n",
    "\n",
    "One note is that this grid search may take several minutes, which is longer than CART or random forest."
   ]
  },
  {
   "cell_type": "code",
   "execution_count": 33,
   "metadata": {},
   "outputs": [
    {
     "name": "stdout",
     "output_type": "stream",
     "text": [
      "The best parameter value is: \n",
      "{'max_depth': 10, 'n_estimators': 250}\n",
      "The best score is: \n",
      "0.8604266599442578\n"
     ]
    }
   ],
   "source": [
    "# values of max_depth and min_samples_split\n",
    "hyperparameters = {'max_depth':[10,20,30,40,50], 'n_estimators':[50,100,150,200,250]}\n",
    "\n",
    "randomState_xgb = 125\n",
    "xgb = XGBRegressor(random_state=randomState_xgb)\n",
    "\n",
    "# cv=5 by default, which means 5-fold cross-validation\n",
    "gscv_xgb = GridSearchCV(xgb, hyperparameters)\n",
    "\n",
    "gscv_xgb.fit(train_x, train_y)\n",
    "\n",
    "# we can query the best parameter value and its accuracy score\n",
    "print (\"The best parameter value is: \")\n",
    "print (gscv_xgb.best_params_)\n",
    "print (\"The best score is: \")\n",
    "print (gscv_xgb.best_score_)"
   ]
  },
  {
   "cell_type": "markdown",
   "metadata": {},
   "source": [
    "Train the final XGBoost."
   ]
  },
  {
   "cell_type": "code",
   "execution_count": 34,
   "metadata": {},
   "outputs": [
    {
     "data": {
      "text/html": [
       "<style>#sk-container-id-4 {color: black;}#sk-container-id-4 pre{padding: 0;}#sk-container-id-4 div.sk-toggleable {background-color: white;}#sk-container-id-4 label.sk-toggleable__label {cursor: pointer;display: block;width: 100%;margin-bottom: 0;padding: 0.3em;box-sizing: border-box;text-align: center;}#sk-container-id-4 label.sk-toggleable__label-arrow:before {content: \"▸\";float: left;margin-right: 0.25em;color: #696969;}#sk-container-id-4 label.sk-toggleable__label-arrow:hover:before {color: black;}#sk-container-id-4 div.sk-estimator:hover label.sk-toggleable__label-arrow:before {color: black;}#sk-container-id-4 div.sk-toggleable__content {max-height: 0;max-width: 0;overflow: hidden;text-align: left;background-color: #f0f8ff;}#sk-container-id-4 div.sk-toggleable__content pre {margin: 0.2em;color: black;border-radius: 0.25em;background-color: #f0f8ff;}#sk-container-id-4 input.sk-toggleable__control:checked~div.sk-toggleable__content {max-height: 200px;max-width: 100%;overflow: auto;}#sk-container-id-4 input.sk-toggleable__control:checked~label.sk-toggleable__label-arrow:before {content: \"▾\";}#sk-container-id-4 div.sk-estimator input.sk-toggleable__control:checked~label.sk-toggleable__label {background-color: #d4ebff;}#sk-container-id-4 div.sk-label input.sk-toggleable__control:checked~label.sk-toggleable__label {background-color: #d4ebff;}#sk-container-id-4 input.sk-hidden--visually {border: 0;clip: rect(1px 1px 1px 1px);clip: rect(1px, 1px, 1px, 1px);height: 1px;margin: -1px;overflow: hidden;padding: 0;position: absolute;width: 1px;}#sk-container-id-4 div.sk-estimator {font-family: monospace;background-color: #f0f8ff;border: 1px dotted black;border-radius: 0.25em;box-sizing: border-box;margin-bottom: 0.5em;}#sk-container-id-4 div.sk-estimator:hover {background-color: #d4ebff;}#sk-container-id-4 div.sk-parallel-item::after {content: \"\";width: 100%;border-bottom: 1px solid gray;flex-grow: 1;}#sk-container-id-4 div.sk-label:hover label.sk-toggleable__label {background-color: #d4ebff;}#sk-container-id-4 div.sk-serial::before {content: \"\";position: absolute;border-left: 1px solid gray;box-sizing: border-box;top: 0;bottom: 0;left: 50%;z-index: 0;}#sk-container-id-4 div.sk-serial {display: flex;flex-direction: column;align-items: center;background-color: white;padding-right: 0.2em;padding-left: 0.2em;position: relative;}#sk-container-id-4 div.sk-item {position: relative;z-index: 1;}#sk-container-id-4 div.sk-parallel {display: flex;align-items: stretch;justify-content: center;background-color: white;position: relative;}#sk-container-id-4 div.sk-item::before, #sk-container-id-4 div.sk-parallel-item::before {content: \"\";position: absolute;border-left: 1px solid gray;box-sizing: border-box;top: 0;bottom: 0;left: 50%;z-index: -1;}#sk-container-id-4 div.sk-parallel-item {display: flex;flex-direction: column;z-index: 1;position: relative;background-color: white;}#sk-container-id-4 div.sk-parallel-item:first-child::after {align-self: flex-end;width: 50%;}#sk-container-id-4 div.sk-parallel-item:last-child::after {align-self: flex-start;width: 50%;}#sk-container-id-4 div.sk-parallel-item:only-child::after {width: 0;}#sk-container-id-4 div.sk-dashed-wrapped {border: 1px dashed gray;margin: 0 0.4em 0.5em 0.4em;box-sizing: border-box;padding-bottom: 0.4em;background-color: white;}#sk-container-id-4 div.sk-label label {font-family: monospace;font-weight: bold;display: inline-block;line-height: 1.2em;}#sk-container-id-4 div.sk-label-container {text-align: center;}#sk-container-id-4 div.sk-container {/* jupyter's `normalize.less` sets `[hidden] { display: none; }` but bootstrap.min.css set `[hidden] { display: none !important; }` so we also need the `!important` here to be able to override the default hidden behavior on the sphinx rendered scikit-learn.org. See: https://github.com/scikit-learn/scikit-learn/issues/21755 */display: inline-block !important;position: relative;}#sk-container-id-4 div.sk-text-repr-fallback {display: none;}</style><div id=\"sk-container-id-4\" class=\"sk-top-container\"><div class=\"sk-text-repr-fallback\"><pre>XGBRegressor(base_score=None, booster=None, callbacks=None,\n",
       "             colsample_bylevel=None, colsample_bynode=None,\n",
       "             colsample_bytree=None, early_stopping_rounds=None,\n",
       "             enable_categorical=False, eval_metric=None, feature_types=None,\n",
       "             gamma=None, gpu_id=None, grow_policy=None, importance_type=None,\n",
       "             interaction_constraints=None, learning_rate=None, max_bin=None,\n",
       "             max_cat_threshold=None, max_cat_to_onehot=None,\n",
       "             max_delta_step=None, max_depth=10, max_leaves=None,\n",
       "             min_child_weight=None, missing=nan, monotone_constraints=None,\n",
       "             n_estimators=250, n_jobs=None, num_parallel_tree=None,\n",
       "             predictor=None, random_state=125, ...)</pre><b>In a Jupyter environment, please rerun this cell to show the HTML representation or trust the notebook. <br />On GitHub, the HTML representation is unable to render, please try loading this page with nbviewer.org.</b></div><div class=\"sk-container\" hidden><div class=\"sk-item\"><div class=\"sk-estimator sk-toggleable\"><input class=\"sk-toggleable__control sk-hidden--visually\" id=\"sk-estimator-id-4\" type=\"checkbox\" checked><label for=\"sk-estimator-id-4\" class=\"sk-toggleable__label sk-toggleable__label-arrow\">XGBRegressor</label><div class=\"sk-toggleable__content\"><pre>XGBRegressor(base_score=None, booster=None, callbacks=None,\n",
       "             colsample_bylevel=None, colsample_bynode=None,\n",
       "             colsample_bytree=None, early_stopping_rounds=None,\n",
       "             enable_categorical=False, eval_metric=None, feature_types=None,\n",
       "             gamma=None, gpu_id=None, grow_policy=None, importance_type=None,\n",
       "             interaction_constraints=None, learning_rate=None, max_bin=None,\n",
       "             max_cat_threshold=None, max_cat_to_onehot=None,\n",
       "             max_delta_step=None, max_depth=10, max_leaves=None,\n",
       "             min_child_weight=None, missing=nan, monotone_constraints=None,\n",
       "             n_estimators=250, n_jobs=None, num_parallel_tree=None,\n",
       "             predictor=None, random_state=125, ...)</pre></div></div></div></div></div>"
      ],
      "text/plain": [
       "XGBRegressor(base_score=None, booster=None, callbacks=None,\n",
       "             colsample_bylevel=None, colsample_bynode=None,\n",
       "             colsample_bytree=None, early_stopping_rounds=None,\n",
       "             enable_categorical=False, eval_metric=None, feature_types=None,\n",
       "             gamma=None, gpu_id=None, grow_policy=None, importance_type=None,\n",
       "             interaction_constraints=None, learning_rate=None, max_bin=None,\n",
       "             max_cat_threshold=None, max_cat_to_onehot=None,\n",
       "             max_delta_step=None, max_depth=10, max_leaves=None,\n",
       "             min_child_weight=None, missing=nan, monotone_constraints=None,\n",
       "             n_estimators=250, n_jobs=None, num_parallel_tree=None,\n",
       "             predictor=None, random_state=125, ...)"
      ]
     },
     "execution_count": 34,
     "metadata": {},
     "output_type": "execute_result"
    }
   ],
   "source": [
    "xgb_final = XGBRegressor(max_depth=gscv_xgb.best_params_['max_depth'], n_estimators=gscv_xgb.best_params_['n_estimators'], random_state=randomState_xgb)\n",
    "xgb_final.fit(train_x, train_y)"
   ]
  },
  {
   "cell_type": "code",
   "execution_count": 35,
   "metadata": {},
   "outputs": [
    {
     "name": "stdout",
     "output_type": "stream",
     "text": [
      "R2 on the training data:\n",
      "0.9999999999997474\n",
      "R2 on the testing data:\n",
      "0.8781763474974178\n"
     ]
    }
   ],
   "source": [
    "print(\"R2 on the training data:\")\n",
    "print(xgb_final.score(X=train_x, y=train_y))\n",
    "print(\"R2 on the testing data:\")\n",
    "print(xgb_final.score(X=test_x, y=test_y))"
   ]
  },
  {
   "cell_type": "markdown",
   "metadata": {},
   "source": [
    "So - what do you think about the comparison of R2 on the training and testing data?\n",
    "\n",
    "The R2 on the testing data of XGBoost is much higher than CART and similar to RF, meaning that XGBoost is much better at making prediction for the unseen data and has a better generality. "
   ]
  },
  {
   "cell_type": "code",
   "execution_count": 36,
   "metadata": {},
   "outputs": [
    {
     "name": "stdout",
     "output_type": "stream",
     "text": [
      "RMSE on the training data:\n",
      "0.0009824731033632951\n",
      "RMSE on the testing data:\n",
      "654.4188493950552\n"
     ]
    }
   ],
   "source": [
    "print(\"RMSE on the training data:\")\n",
    "print(mean_squared_error(train_y, xgb_final.predict(train_x), squared=False))\n",
    "print(\"RMSE on the testing data:\")\n",
    "print(mean_squared_error(test_y, xgb_final.predict(test_x), squared=False))"
   ]
  },
  {
   "cell_type": "markdown",
   "metadata": {},
   "source": [
    "As with CART, it is not useful to visualise the trees in a random forest.\n",
    "\n",
    "Calculate and plot the feature importance of the XGboost model.\n",
    "\n",
    "Although the feature importance value differs from the CART, the order of the top-ranking variables is the same.\n",
    "\n",
    "This indicates that these variables are indeed very important for the prediction of bike rental."
   ]
  },
  {
   "cell_type": "code",
   "execution_count": 37,
   "metadata": {},
   "outputs": [
    {
     "name": "stdout",
     "output_type": "stream",
     "text": [
      "                                                         Importance\n",
      "Feature                                                            \n",
      "days_since_2011                                              0.7102\n",
      "temp                                                         0.3431\n",
      "hum                                                          0.1323\n",
      "windspeed                                                    0.0485\n",
      "weathersit_RAIN/SNOW/STORM                                   0.0072\n",
      "workingday_NO WORKING DAY                                    0.0036\n",
      "weathersit_MISTY                                             0.0029\n",
      "weekday_SUN                                                  0.0019\n",
      "mnth_OKT                                                     0.0012\n",
      "mnth_AUG                                                     0.0012\n",
      "mnth_MAR                                                     0.0011\n",
      "weekday_THU                                                  0.0011\n",
      "holiday_HOLIDAY                                              0.0008\n",
      "weekday_WED                                                  0.0007\n",
      "weekday_SAT                                                  0.0006\n",
      "mnth_SEP                                                     0.0003\n",
      "mnth_APR                                                     0.0003\n",
      "mnth_JUL                                                     0.0003\n",
      "mnth_DEZ                                                     0.0002\n",
      "mnth_JUN                                                     0.0001\n",
      "season_SUMMER                                                0.0000\n",
      "season_FALL                                                 -0.0000\n",
      "weekday_TUE                                                 -0.0001\n",
      "mnth_NOV                                                    -0.0006\n",
      "mnth_FEB                                                    -0.0007\n",
      "mnth_MAY                                                    -0.0013\n",
      "season_WINTER                                               -0.0015\n",
      "weekday_FRI                                                 -0.0016\n"
     ]
    },
    {
     "data": {
      "image/png": "[encoded data removed]",
      "text/plain": [
       "<Figure size 400x618 with 1 Axes>"
      ]
     },
     "metadata": {},
     "output_type": "display_data"
    }
   ],
   "source": [
    "imp = rfpimp.importances(xgb_final, test_x, test_y) # permutation\n",
    "print(imp)\n",
    "viz = rfpimp.plot_importances(imp)\n",
    "viz.view()"
   ]
  },
  {
   "cell_type": "markdown",
   "metadata": {},
   "source": [
    "## Comparing three models"
   ]
  },
  {
   "cell_type": "markdown",
   "metadata": {},
   "source": [
    "we will collate and compare the model performance of the three models."
   ]
  },
  {
   "cell_type": "code",
   "execution_count": 38,
   "metadata": {},
   "outputs": [
    {
     "data": {
      "text/html": [
       "<div>\n",
       "<style scoped>\n",
       "    .dataframe tbody tr th:only-of-type {\n",
       "        vertical-align: middle;\n",
       "    }\n",
       "\n",
       "    .dataframe tbody tr th {\n",
       "        vertical-align: top;\n",
       "    }\n",
       "\n",
       "    .dataframe thead th {\n",
       "        text-align: right;\n",
       "    }\n",
       "</style>\n",
       "<table border=\"1\" class=\"dataframe\">\n",
       "  <thead>\n",
       "    <tr style=\"text-align: right;\">\n",
       "      <th></th>\n",
       "      <th>R2_train_data</th>\n",
       "      <th>R2_test_data</th>\n",
       "      <th>R2_diff</th>\n",
       "    </tr>\n",
       "  </thead>\n",
       "  <tbody>\n",
       "    <tr>\n",
       "      <th>CART</th>\n",
       "      <td>0.9727</td>\n",
       "      <td>0.7577</td>\n",
       "      <td>0.2150</td>\n",
       "    </tr>\n",
       "    <tr>\n",
       "      <th>RF</th>\n",
       "      <td>0.9818</td>\n",
       "      <td>0.8836</td>\n",
       "      <td>0.0982</td>\n",
       "    </tr>\n",
       "    <tr>\n",
       "      <th>XGBoost</th>\n",
       "      <td>1.0000</td>\n",
       "      <td>0.8782</td>\n",
       "      <td>0.1218</td>\n",
       "    </tr>\n",
       "  </tbody>\n",
       "</table>\n",
       "</div>"
      ],
      "text/plain": [
       "                                   R2_train_data  \\\n",
       "CART                                      0.9727   \n",
       "RF                                        0.9818   \n",
       "XGBoost                                   1.0000   \n",
       "\n",
       "                                    R2_test_data  \\\n",
       "CART                                      0.7577   \n",
       "RF                                        0.8836   \n",
       "XGBoost                                   0.8782   \n",
       "\n",
       "                                         R2_diff  \n",
       "CART                                      0.2150  \n",
       "RF                                        0.0982  \n",
       "XGBoost                                   0.1218  "
      ]
     },
     "execution_count": 38,
     "metadata": {},
     "output_type": "execute_result"
    }
   ],
   "source": [
    "# create a list of models\n",
    "list_name_models = ['CART', 'RF', 'XGBoost']\n",
    "# use the models from above\n",
    "list_reg_models = [dt_final, rf_final, xgb_final]\n",
    "\n",
    "dict_models = dict()\n",
    "\n",
    "for name, model in zip(list_name_models, list_reg_models):\n",
    "    dict_models[name] = [model.score(train_x, train_y), model.score(test_x, test_y), model.score(train_x, train_y) - model.score(test_x, test_y)]\n",
    "\n",
    "# transform dict_models to dataframe\n",
    "df_models = pd.DataFrame.from_dict(dict_models, orient='index', columns=['R2_train_data', 'R2_test_data', 'R2_diff'])\n",
    "df_models\n",
    "# you can then export df_models as a csv file and use it in MS Excel or Word\n",
    "# df_models.to_csv(...)"
   ]
  },
  {
   "cell_type": "markdown",
   "metadata": {},
   "source": [
    "The above result shows that the random forest model has a higher R2 on the testing data than CART and XGBoost, as well as a smaller R2 difference between training and testing data. \n",
    "\n",
    "This indicates that the random forest model is less subject to the overfitting issue and has a better generalisation.\n",
    "\n",
    "The XGBoost also has a less extent of overfitting than CART. \n",
    "\n",
    "For this reason, it is uncommon to use CART to directly make predictions. Rather, CART is used to construct RF or GBDT."
   ]
  },
  {
   "cell_type": "markdown",
   "metadata": {
    "deletable": true,
    "editable": true
   },
   "source": [
    "## Summary"
   ]
  },
  {
   "cell_type": "markdown",
   "metadata": {
    "deletable": true,
    "editable": true
   },
   "source": [
    "In this workshop, we have used decision trees, random forest, and gradient boosting decision trees to make predictions for the daily bicycle rental.\n",
    "\n",
    "We compare the model performance and the feature importance. Overall, the RF and GBDT models have better predictive performance and better generalisation than CART.\n",
    "\n",
    "The trend of relative feature importance is consistent across the three models. The most important features are days since 2011, temperature, and humidity.\n",
    "\n",
    "In the later weeks, we will demonstrate the use of these models for classification tasks and the scalability of these models for big data."
   ]
  },
  {
   "cell_type": "markdown",
   "metadata": {},
   "source": [
    "## References and recommendations:\n",
    "\n",
    "1. Permutation importance: [this chapter](https://christophm.github.io/interpretable-ml-book/feature-importance.html) is recommended, which is part of the E-book 'Interpretable machine learning'.\n",
    "1. [The documentation](https://xgboost.readthedocs.io/en/latest/parameter.html) of XGBoost hyperparameters (note that they use the term *parameters* in this webpage).\n"
   ]
  }
 ],
 "metadata": {
  "kernelspec": {
   "display_name": "Python 3.10.5 ('base')",
   "language": "python",
   "name": "python3"
  },
  "language_info": {
   "codemirror_mode": {
    "name": "ipython",
    "version": 3
   },
   "file_extension": ".py",
   "mimetype": "text/x-python",
   "name": "python",
   "nbconvert_exporter": "python",
   "pygments_lexer": "ipython3",
   "version": "3.11.5"
  },
  "vscode": {
   "interpreter": {
    "hash": "d4d1e4263499bec80672ea0156c357c1ee493ec2b1c70f0acce89fc37c4a6abe"
   }
  }
 },
 "nbformat": 4,
 "nbformat_minor": 4
}
